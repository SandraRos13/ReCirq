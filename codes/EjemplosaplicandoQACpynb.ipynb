{
 "cells": [
  {
   "cell_type": "markdown",
   "metadata": {},
   "source": [
    "## Quantum Adiabatic Computation on model Quantum Circuit"
   ]
  },
  {
   "cell_type": "code",
   "execution_count": 3,
   "metadata": {},
   "outputs": [],
   "source": [
    "from typing import List\n",
    "import sympy\n",
    "import numpy as np\n",
    "import matplotlib.pyplot as plt\n",
    "import cirq\n",
    "\n",
    "import cirq_google"
   ]
  },
  {
   "cell_type": "code",
   "execution_count": null,
   "metadata": {},
   "outputs": [],
   "source": [
    "# Fisrt create a hamiltonian intial"
   ]
  },
  {
   "cell_type": "code",
   "execution_count": 13,
   "metadata": {},
   "outputs": [
    {
     "name": "stdout",
     "output_type": "stream",
     "text": [
      "Circuit:\n",
      "(0, 0): ───H───M('m')───\n",
      "Results:\n",
      "m=00010\n"
     ]
    }
   ],
   "source": [
    "# Pick a qubit.\n",
    "qubit = cirq.GridQubit(0, 0)\n",
    "\n",
    "# Create a circuit that applies a Hadamard gate al cuadrado (squared of Hadamard gate)\n",
    "#cirq.X ** 0.25\n",
    "#circuit = cirq.Circuit(cirq.X(qubit) ** 0.5, cirq.measure(qubit, key='m'))\n",
    "circuit = cirq.Circuit(cirq.H(qubit), cirq.measure(qubit, key='m'))\n",
    "print(\"Circuit:\")\n",
    "print(circuit)\n",
    "\n",
    "# Simulate the circuit several times.\n",
    "simulator = cirq.Simulator()\n",
    "result = simulator.run(circuit, repetitions=5)\n",
    "print(\"Results:\")\n",
    "print(result)"
   ]
  },
  {
   "cell_type": "code",
   "execution_count": 10,
   "metadata": {},
   "outputs": [],
   "source": [
    "\"\"\"Define a custom single-qubit gate.\"\"\"\n",
    "class GateHi(cirq.Gate):\n",
    "    def __init__(self):\n",
    "        super(GateHi, self)\n",
    "\n",
    "    def _num_qubits_(self):\n",
    "        return 1\n",
    "\n",
    "    def _unitary_(self):\n",
    "        return np.array([\n",
    "            [1.0,  -1.0],\n",
    "            [-1.0, 1.0]\n",
    "        ]) / 2\n",
    "\n",
    "    def _circuit_diagram_info_(self, args):\n",
    "        return \"H_init\"\n",
    "\n",
    "my_gate = GateHi()"
   ]
  },
  {
   "cell_type": "code",
   "execution_count": 11,
   "metadata": {},
   "outputs": [
    {
     "name": "stdout",
     "output_type": "stream",
     "text": [
      "Circuit with custom gates:\n",
      "0: ───H_init───\n"
     ]
    }
   ],
   "source": [
    "\"\"\"Use the custom gate in a circuit.\"\"\"\n",
    "circ = cirq.Circuit(\n",
    "    my_gate.on(cirq.LineQubit(0))\n",
    ")\n",
    "\n",
    "print(\"Circuit with custom gates:\")\n",
    "print(circ)"
   ]
  },
  {
   "cell_type": "code",
   "execution_count": 12,
   "metadata": {},
   "outputs": [
    {
     "name": "stdout",
     "output_type": "stream",
     "text": [
      "measurements: (no measurements)\n",
      "\n",
      "qubits: (cirq.LineQubit(0),)\n",
      "output vector: 0.5|0⟩ - 0.5|1⟩\n",
      "\n",
      "phase:\n",
      "output vector: |⟩\n"
     ]
    }
   ],
   "source": [
    "\"\"\"Simulate a circuit with a custom gate.\"\"\"\n",
    "sim = cirq.Simulator()\n",
    "\n",
    "res = sim.simulate(circ)\n",
    "print(res)"
   ]
  }
 ],
 "metadata": {
  "kernelspec": {
   "display_name": "Python 3",
   "language": "python",
   "name": "python3"
  },
  "language_info": {
   "codemirror_mode": {
    "name": "ipython",
    "version": 3
   },
   "file_extension": ".py",
   "mimetype": "text/x-python",
   "name": "python",
   "nbconvert_exporter": "python",
   "pygments_lexer": "ipython3",
   "version": "3.11.9"
  }
 },
 "nbformat": 4,
 "nbformat_minor": 2
}
